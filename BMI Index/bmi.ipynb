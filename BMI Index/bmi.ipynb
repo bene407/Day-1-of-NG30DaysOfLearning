{
 "cells": [
  {
   "cell_type": "code",
   "execution_count": 1,
   "metadata": {},
   "outputs": [
    {
     "name": "stdout",
     "output_type": "stream",
     "text": [
      "Hello World\n"
     ]
    }
   ],
   "source": [
    "#Hello World in Python\n",
    "print(\"Hello World\")"
   ]
  },
  {
   "cell_type": "code",
   "execution_count": 3,
   "metadata": {},
   "outputs": [
    {
     "name": "stdout",
     "output_type": "stream",
     "text": [
      "70\n"
     ]
    }
   ],
   "source": [
    "# Sum\n",
    "sum = 23 + 12\n",
    "mult = sum * 2\n",
    "print(mult)"
   ]
  },
  {
   "cell_type": "code",
   "execution_count": 5,
   "metadata": {},
   "outputs": [
    {
     "name": "stdout",
     "output_type": "stream",
     "text": [
      "Benedict comes from Nigeria\n"
     ]
    }
   ],
   "source": [
    "name = \"Benedict\"\n",
    "country = \"Nigeria\"\n",
    "print(name + \" comes from \" + country)"
   ]
  },
  {
   "cell_type": "code",
   "execution_count": 7,
   "metadata": {},
   "outputs": [],
   "source": [
    "height = 1.34\n",
    "weight = 50\n",
    "overweight = True\n",
    "result = \"You are overweight\""
   ]
  },
  {
   "cell_type": "code",
   "execution_count": 9,
   "metadata": {},
   "outputs": [
    {
     "data": {
      "text/plain": [
       "bool"
      ]
     },
     "execution_count": 9,
     "metadata": {},
     "output_type": "execute_result"
    }
   ],
   "source": [
    "type(height)\n",
    "type(overweight)"
   ]
  },
  {
   "cell_type": "code",
   "execution_count": 11,
   "metadata": {},
   "outputs": [
    {
     "name": "stdout",
     "output_type": "stream",
     "text": [
      "43 12 252\n"
     ]
    }
   ],
   "source": [
    "sum = 21 + 22\n",
    "sub = 21 - 9\n",
    "mult = 21 * 12\n",
    "print(sum, sub, mult)"
   ]
  },
  {
   "cell_type": "code",
   "execution_count": 12,
   "metadata": {},
   "outputs": [
    {
     "data": {
      "text/plain": [
       "2.0"
      ]
     },
     "execution_count": 12,
     "metadata": {},
     "output_type": "execute_result"
    }
   ],
   "source": [
    "x = 2\n",
    "x += 5\n",
    "x -= 5\n",
    "x /= 2\n",
    "x *= 2\n",
    "x"
   ]
  },
  {
   "cell_type": "code",
   "execution_count": 15,
   "metadata": {},
   "outputs": [
    {
     "data": {
      "text/plain": [
       "datetime.date(2022, 6, 15)"
      ]
     },
     "execution_count": 15,
     "metadata": {},
     "output_type": "execute_result"
    }
   ],
   "source": [
    "from datetime import date\n",
    "date.today()"
   ]
  },
  {
   "cell_type": "code",
   "execution_count": 17,
   "metadata": {},
   "outputs": [
    {
     "name": "stdout",
     "output_type": "stream",
     "text": [
      "Today is: 2022-06-15\n"
     ]
    }
   ],
   "source": [
    "print(\"Today is: \" + str(date.today()))"
   ]
  },
  {
   "cell_type": "code",
   "execution_count": 18,
   "metadata": {},
   "outputs": [
    {
     "name": "stdout",
     "output_type": "stream",
     "text": [
      "Benzo comes from Nigeria\n"
     ]
    }
   ],
   "source": [
    "name = input(\"What's your name?\")\n",
    "country = input(\"Enter your country\")\n",
    "print(name + \" comes from \" + country)"
   ]
  },
  {
   "cell_type": "code",
   "execution_count": 25,
   "metadata": {},
   "outputs": [
    {
     "name": "stdout",
     "output_type": "stream",
     "text": [
      "BMI Calculator\n",
      "22.22222222222222\n"
     ]
    }
   ],
   "source": [
    "print(\"BMI Calculator\")\n",
    "weight = eval(input(\"Enter your weight in kgs\"))\n",
    "height = eval(input(\"Enter your height in metres\"))\n",
    "BMI = weight / (height*height)\n",
    "print(BMI)"
   ]
  },
  {
   "cell_type": "code",
   "execution_count": 33,
   "metadata": {},
   "outputs": [
    {
     "name": "stdout",
     "output_type": "stream",
     "text": [
      "b is less than c\n"
     ]
    }
   ],
   "source": [
    "a  = 17\n",
    "b = 15 \n",
    "c = 16\n",
    "\n",
    "if a > b:\n",
    "    if b > c:\n",
    "        print (\"a is greater than b and b is greater than c \")\n",
    "    else:\n",
    "        print(\"b is less than c\")\n",
    "elif a == b:\n",
    "    print(\"a and b are equal\")\n",
    "else:\n",
    "    print(\"a is greater than b\")"
   ]
  },
  {
   "cell_type": "code",
   "execution_count": 37,
   "metadata": {},
   "outputs": [
    {
     "name": "stdout",
     "output_type": "stream",
     "text": [
      "BMI Calculator\n",
      "You are healthy\n"
     ]
    }
   ],
   "source": [
    "print(\"BMI Calculator\")\n",
    "weight = eval(input(\"Enter your weight in kgs\"))\n",
    "height = eval(input(\"Enter your height in metres\"))\n",
    "BMI = weight / (height*height)\n",
    "\n",
    "if(BMI > 0):\n",
    "    if(BMI <= 16):\n",
    "        print(\"You are very underweight\")\n",
    "    elif(BMI <= 18.5):\n",
    "        print(\"You are underweight\")\n",
    "    elif(BMI<= 25):\n",
    "        print(\"You are healthy\")\n",
    "    elif (BMI<= 30):\n",
    "        print(\"You are overwieght\")\n",
    "    else:\n",
    "        print(\"You are overweight\")\n",
    "else:\n",
    "    print(\"Enter valid details\")    "
   ]
  },
  {
   "cell_type": "code",
   "execution_count": null,
   "metadata": {},
   "outputs": [],
   "source": []
  }
 ],
 "metadata": {
  "kernelspec": {
   "display_name": "Python 3.10.5 64-bit",
   "language": "python",
   "name": "python3"
  },
  "language_info": {
   "codemirror_mode": {
    "name": "ipython",
    "version": 3
   },
   "file_extension": ".py",
   "mimetype": "text/x-python",
   "name": "python",
   "nbconvert_exporter": "python",
   "pygments_lexer": "ipython3",
   "version": "3.10.5"
  },
  "orig_nbformat": 4,
  "vscode": {
   "interpreter": {
    "hash": "fbc768028c3e6ead51d9a200ddcb2ec858ae62844dcd1994729a8279be9b48f2"
   }
  }
 },
 "nbformat": 4,
 "nbformat_minor": 2
}
